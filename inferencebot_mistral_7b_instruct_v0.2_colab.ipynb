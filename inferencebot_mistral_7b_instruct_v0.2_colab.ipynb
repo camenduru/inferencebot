{
  "cells": [
    {
      "cell_type": "markdown",
      "metadata": {
        "id": "view-in-github"
      },
      "source": [
        "[![Open In Colab](https://colab.research.google.com/assets/colab-badge.svg)](https://colab.research.google.com/github/camenduru/inferencebot-colab/blob/main/inferencebot_mistral_7b_instruct_v0.2_colab.ipynb)"
      ]
    },
    {
      "cell_type": "code",
      "execution_count": null,
      "metadata": {
        "id": "VjYy0F2gZIPR"
      },
      "outputs": [],
      "source": [
        "%cd /content\n",
        "\n",
        "!wget https://go.dev/dl/go1.21.5.linux-amd64.tar.gz\n",
        "!tar -C /content -xzf go1.21.5.linux-amd64.tar.gz\n",
        "import os\n",
        "os.environ[\"PATH\"] = os.environ.get(\"PATH\", \"\") + \":/content/go/bin\"\n",
        "os.environ[\"GOPATH\"] = os.path.expanduser(\"~/go\")\n",
        "os.environ[\"PATH\"] = os.environ.get(\"PATH\", \"\") + \":\" + os.path.join(os.environ[\"GOPATH\"], \"bin\")\n",
        "!wget https://github.com/camenduru/inferencebot/raw/main/index.html -O /content/index.html\n",
        "!wget https://github.com/camenduru/inferencebot/raw/main/main.go -O /content/main.go\n",
        "!go mod init github.com/camenduru/websocket-echo-server\n",
        "!go get github.com/gorilla/websocket\n",
        "!go get github.com/gempir/go-twitch-irc/v3\n",
        "\n",
        "!apt install -y -qq xvfb libgstreamer1.0-dev libgstreamer-plugins-base1.0-dev gstreamer1.0-plugins-good gstreamer1.0-plugins-bad gstreamer1.0-plugins-ugly gstreamer1.0-tools gstreamer1.0-libav\n",
        "!wget https://huggingface.co/camenduru/cefsrc/resolve/main/cefsrc.zip\n",
        "!unzip /content/cefsrc.zip -d /content/cefsrc"
      ]
    },
    {
      "cell_type": "code",
      "execution_count": null,
      "metadata": {},
      "outputs": [],
      "source": [
        "!pip install -q accelerate bitsandbytes\n",
        "\n",
        "from typing import Iterator\n",
        "import torch\n",
        "from transformers import AutoModelForCausalLM, AutoTokenizer, TextIteratorStreamer\n",
        "\n",
        "model_id = \"mistralai/Mistral-7B-Instruct-v0.2\"\n",
        "model = AutoModelForCausalLM.from_pretrained(model_id, torch_dtype=torch.float16, device_map=\"auto\", load_in_8bit=True)\n",
        "tokenizer = AutoTokenizer.from_pretrained(model_id)\n",
        "\n",
        "import gradio as gr\n",
        "\n",
        "def generate(prompt):\n",
        "  messages = [{\"role\": \"user\", \"content\": prompt},]\n",
        "  encodeds = tokenizer.apply_chat_template(messages, return_tensors=\"pt\")\n",
        "  model_inputs = encodeds.to(model.device)\n",
        "  generated_ids = model.generate(model_inputs, max_new_tokens=1024, do_sample=True)\n",
        "  decoded = tokenizer.batch_decode(generated_ids, skip_special_tokens=True)\n",
        "  import re\n",
        "  text = re.sub(r'\\[INST\\].*?\\[/INST\\]', '', decoded[0])\n",
        "  return text\n",
        "\n",
        "with gr.Blocks(title=f\"mistral-7b-instruct-v0.2\", css=\".gradio-container {max-width: 544px !important}\") as demo:\n",
        "  with gr.Row():\n",
        "    with gr.Column():\n",
        "        textbox = gr.Textbox(show_label=False, value=\"who are you?\")\n",
        "        button = gr.Button()\n",
        "  with gr.Row(variant=\"default\"):\n",
        "      output_text = gr.Textbox(show_label=False)\n",
        "\n",
        "  button.click(fn=generate, inputs=[textbox], outputs=[output_text], show_progress=True)\n",
        "\n",
        "demo.queue().launch(inline=False, share=True, debug=False)"
      ]
    },
    {
      "cell_type": "code",
      "execution_count": null,
      "metadata": {},
      "outputs": [],
      "source": [
        "username = \"username_sed\" #@param {type: 'string'}\n",
        "username_code = f's/username_sed/{username}/g'\n",
        "channel = \"channel_sed\" #@param {type: 'string'}\n",
        "channel_code = f's/channel_sed/{channel}/g'\n",
        "oauth = \"oauth_sed\" #@param {type: 'string'}\n",
        "oauth_code = f's/oauth_sed/{oauth}/g'\n",
        "!sed -i -e {username_code} -e {channel_code} -e {oauth_code} main.go\n",
        "\n",
        "import os\n",
        "import subprocess\n",
        "import threading\n",
        "\n",
        "def set_environment_variables():\n",
        "    os.environ[\"PATH\"] = os.environ.get(\"PATH\", \"\") + \":/content/go/bin\"\n",
        "    os.environ[\"GOPATH\"] = os.path.expanduser(\"~/go\")\n",
        "    os.environ[\"PATH\"] = os.environ.get(\"PATH\", \"\") + \":\" + os.path.join(os.environ[\"GOPATH\"], \"bin\")\n",
        "\n",
        "def run_go_program():\n",
        "    try:\n",
        "        subprocess.run([\"go\", \"run\", \".\"], check=True)\n",
        "    except subprocess.CalledProcessError as e:\n",
        "        print(f\"Error running Go program: {e}\")\n",
        "\n",
        "def main():\n",
        "    set_environment_variables()\n",
        "    go_thread = threading.Thread(target=run_go_program)\n",
        "    go_thread.start()\n",
        "    # go_thread.join()\n",
        "\n",
        "if __name__ == \"__main__\":\n",
        "    main()"
      ]
    },
    {
      "cell_type": "code",
      "execution_count": null,
      "metadata": {},
      "outputs": [],
      "source": [
        "%env LD_PRELOAD=/content/cefsrc/libcef.so\n",
        "rtmp_link = \"rtmp_link\" #@param {type: 'string'}\n",
        "stream_code = f\"-e /dev/stdout gst-launch-1.0 cefsrc url=http://127.0.0.1 ! video/x-raw,format=BGRA,width=960,height=540,framerate=5/1 ! cefdemux name=demux ! videoconvert ! video/x-raw,format=I420 ! videoconvert ! queue ! x264enc speed-preset=ultrafast tune=zerolatency key-int-max=60 ! flvmux name=muxer ! rtmpsink location={rtmp_link} demux. ! liveadder ! avenc_aac bitrate=128000 ! muxer.\"\n",
        "%env GST_PLUGIN_PATH=/content/cefsrc:$GST_PLUGIN_PATH \n",
        "!xvfb-run {stream_code}"
      ]
    }
  ],
  "metadata": {
    "accelerator": "GPU",
    "colab": {
      "gpuType": "T4",
      "provenance": []
    },
    "kernelspec": {
      "display_name": "Python 3",
      "name": "python3"
    },
    "language_info": {
      "name": "python"
    }
  },
  "nbformat": 4,
  "nbformat_minor": 0
}
